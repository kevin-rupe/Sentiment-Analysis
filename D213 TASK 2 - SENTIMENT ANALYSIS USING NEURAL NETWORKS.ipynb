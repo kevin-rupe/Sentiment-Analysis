{
 "cells": [
  {
   "cell_type": "markdown",
   "id": "f1fce9a6",
   "metadata": {},
   "source": [
    "# D213 - Advanced Data Analytics\n",
    "## NLM3 TASK 2 - SENTIMENT ANALYSIS USING NEURAL NETWORKS\n",
    "### Western Governor's University - November 14, 2024\n",
    "*Performed by Kevin Rupe, 011165981, krupe6@wgu.edu, (864) 704-2340*"
   ]
  },
  {
   "cell_type": "markdown",
   "id": "315be8af",
   "metadata": {},
   "source": [
    "# Table of Contents\n",
    "* [Part I: Research Question](#part1)\n",
    "    * [A1: Research Question](#a1)\n",
    "    * [A2: Objective or Goals](#a2)\n",
    "    * [A3: Prescribed Network](#a3)\n",
    "\n",
    "* [Part II: Data Preparation](#part2)\n",
    "    * [B1: Data Exploration](#b1)\n",
    "    * [B2: Tokenization](#b2)\n",
    "    * [B3: Padding Process](#b3)\n",
    "    * [B4: Categories of Sentiment](#b4)\n",
    "    * [B5: Steps to Prepare the Data](#b5)\n",
    "    * [B6: Prepared Data Set](#b6)\n",
    "\n",
    "* [Part III: Network Architecture](#part3)\n",
    "    * [C1: Model Summary](#c1)\n",
    "    * [C2: Network Architecture](#c2)\n",
    "    * [C3: Hyperparameters](#c3)\n",
    "\n",
    "* [Part IV: Model Evaluation](#part4)\n",
    "    * [D1: Stopping Criteria](#d1)\n",
    "    * [D2: Fitness](#d2)\n",
    "    * [D3: Training Process](#d3)\n",
    "    * [D4: Predictive Accuracy](#d4)\n",
    "\n",
    "* [Part V: Summary and Recommendations](#part5)\n",
    "    * [E: Code](#e)\n",
    "    * [F: Functionality](#f)\n",
    "    * [G: Recommendations](#g)\n",
    "\n",
    "* [Part VI: Reporting](#part6)\n",
    "    * [H: Reporting](#h)\n",
    "    * [I: Sources for Third-Party Code](#i)\n",
    "    * [J: Sources](#j)"
   ]
  },
  {
   "cell_type": "markdown",
   "id": "7488062e",
   "metadata": {},
   "source": [
    "## Part I: Research Question <a class=\"anchor\" id=\"part1\"></a>"
   ]
  },
  {
   "cell_type": "markdown",
   "id": "b84581a9",
   "metadata": {},
   "source": [
    "### A1: Research Question <a class=\"anchor\" id=\"a1\"></a>\n",
    "\n",
    "Are we able to analyze customers' sentiment in the dataset using NN (Neural Networks) and NLP (Natural Language Processing) with a high level of accuracy? "
   ]
  },
  {
   "cell_type": "markdown",
   "id": "9ddbb2d2",
   "metadata": {},
   "source": [
    "### A2: Objective or Goals <a class=\"anchor\" id=\"a2\"></a>\n",
    "\n",
    "The primary goal of this analysis is to accurately identify positive and negative comments from customer reviews from three different datasets: \n",
    " - 1) IMDb: A dataset containing 1,000 reviews of movies, films, or tv shows.\n",
    " - 2) Amazon: A dataset containing 1,000 reviews of Amazon products, most likely related to cell phones and accessories.\n",
    " - 3) Yelp!: A dataset containing 1,000 reviews of restaurants from local patrons.\n",
    " \n",
    " I also will summarize the results of this analysis and provide a recommended course of action. "
   ]
  },
  {
   "cell_type": "markdown",
   "id": "90699ce2",
   "metadata": {},
   "source": [
    "### A3: Prescribed Network <a class=\"anchor\" id=\"a3\"></a>\n",
    "\n",
    "A Neural Network (NN) is a machine learning program that is modeled after the human brain. It uses processes much the same way as a human brain does with how interconnected our brains are. This creates many connections between the layers setup in the model. The NN learns from the patterns it sees. There are several different types of Neural Networks such as *Deep Neural Networks (DNN), Convolutional Neural Networks (CNN), Artificial Neural Networks (ANN), and Recurrent Neural Networks (RNN)* (IBM, n.d.).\n",
    "\n",
    "Some of these Neural Networks are more suited with imagery data, but in our dataset, we are concerned with text classification. Specifically, we are hoping to achieve a model that can predict a customer's sentiment; whether their review (i.e., text) has a positive sentiment or a negative one. \n",
    "\n",
    "For this project, I will be using a type of RNN called *Long Short-Term Memory (LSTM)* which is designed to handle sequential data. LSTM Neural Networks are able to capture temporal dependencies and long-term patterns due to being able to maintain memory over time. I believe this model will be able to accurately analyze the textual datasets (aakarshachug, 2024). "
   ]
  },
  {
   "cell_type": "markdown",
   "id": "3c369f83",
   "metadata": {},
   "source": [
    "## Part II: Data Preparation <a class=\"anchor\" id=\"part2\"></a>"
   ]
  },
  {
   "cell_type": "code",
   "execution_count": 2,
   "id": "68bf593d",
   "metadata": {},
   "outputs": [],
   "source": [
    "import pandas as pd\n",
    "import numpy as np\n",
    "import gzip #unzipping the input file\n",
    "import re #regex\n",
    "import sys #system\n",
    "import seaborn as sns\n",
    "import matplotlib.pyplot as plt\n",
    "%matplotlib inline\n",
    "\n",
    "import warnings #to ignore warnings\n",
    "warnings.simplefilter(action='ignore')\n",
    "warnings.filterwarnings('ignore')"
   ]
  },
  {
   "cell_type": "code",
   "execution_count": 3,
   "id": "587c0ea3",
   "metadata": {},
   "outputs": [
    {
     "name": "stderr",
     "output_type": "stream",
     "text": [
      "[nltk_data] Downloading package stopwords to\n",
      "[nltk_data]     C:\\Users\\e0145653\\AppData\\Roaming\\nltk_data...\n",
      "[nltk_data]   Package stopwords is already up-to-date!\n",
      "[nltk_data] Downloading package punkt to\n",
      "[nltk_data]     C:\\Users\\e0145653\\AppData\\Roaming\\nltk_data...\n",
      "[nltk_data]   Package punkt is already up-to-date!\n",
      "[nltk_data] Downloading package wordnet to\n",
      "[nltk_data]     C:\\Users\\e0145653\\AppData\\Roaming\\nltk_data...\n",
      "[nltk_data]   Package wordnet is already up-to-date!\n",
      "[nltk_data] Downloading package omw-1.4 to\n",
      "[nltk_data]     C:\\Users\\e0145653\\AppData\\Roaming\\nltk_data...\n",
      "[nltk_data]   Package omw-1.4 is already up-to-date!\n",
      "[nltk_data] Downloading package averaged_perceptron_tagger to\n",
      "[nltk_data]     C:\\Users\\e0145653\\AppData\\Roaming\\nltk_data...\n",
      "[nltk_data]   Package averaged_perceptron_tagger is already up-to-\n",
      "[nltk_data]       date!\n"
     ]
    },
    {
     "data": {
      "text/plain": [
       "True"
      ]
     },
     "execution_count": 3,
     "metadata": {},
     "output_type": "execute_result"
    }
   ],
   "source": [
    "# Install Natural Language Libraries\n",
    "import nltk  # natural language toolkit\n",
    "from nltk.corpus import stopwords, wordnet\n",
    "from nltk import word_tokenize\n",
    "from nltk.stem import WordNetLemmatizer, PorterStemmer\n",
    "\n",
    "# Download required NLTK data\n",
    "nltk.download('stopwords')\n",
    "nltk.download('punkt')\n",
    "nltk.download('wordnet')\n",
    "nltk.download('omw-1.4')\n",
    "nltk.download('averaged_perceptron_tagger')"
   ]
  },
  {
   "cell_type": "code",
   "execution_count": 42,
   "id": "8b09ea22",
   "metadata": {},
   "outputs": [],
   "source": [
    "#Import TensorFlow & Scikit-Learn libraries\n",
    "import sklearn\n",
    "from sklearn import preprocessing\n",
    "from sklearn.preprocessing import OneHotEncoder\n",
    "from sklearn import model_selection\n",
    "from sklearn.model_selection import train_test_split\n",
    "\n",
    "import tensorflow as tf  # tensorflow package\n",
    "from tensorflow import keras # neural networks API\n",
    "from tensorflow.keras.preprocessing.text import Tokenizer  # convert input text to tokens\n",
    "from tensorflow.keras.preprocessing.sequence import pad_sequences  # pads texts\n",
    "from tensorflow.keras.callbacks import EarlyStopping  # stop training at threshold\n",
    "from tensorflow.keras.callbacks import ModelCheckpoint\n",
    "from tensorflow.keras.callbacks import ReduceLROnPlateau # reduces learning rate on plateau\n",
    "from tensorflow.keras.models import load_model, Sequential #load a saved model\n",
    "from tensorflow.keras.layers import Dense, Embedding, GlobalAveragePooling1D, Dropout, LSTM, SpatialDropout1D"
   ]
  },
  {
   "cell_type": "code",
   "execution_count": 43,
   "id": "fe495bec",
   "metadata": {},
   "outputs": [
    {
     "name": "stdout",
     "output_type": "stream",
     "text": [
      "The TensorFlow version in my environment is: 2.18.0\n"
     ]
    }
   ],
   "source": [
    "print(\"The TensorFlow version in my environment is:\",tf.__version__)"
   ]
  },
  {
   "cell_type": "markdown",
   "id": "3d808210",
   "metadata": {},
   "source": [
    "### B1: Data Exploration <a class=\"anchor\" id=\"b1\"></a>"
   ]
  },
  {
   "cell_type": "code",
   "execution_count": 6,
   "id": "228477ef",
   "metadata": {},
   "outputs": [],
   "source": [
    "#import csv files\n",
    "column_headers = ['Review', 'Score']\n",
    "imdb = pd.read_csv('C:/Users/e0145653/Documents/WGU/D213 - Advanced Data Analytics/PRFA - NLM3/imdb_labelled.txt', \n",
    "                 sep=r'\\s*\\t\\s', header=None, names=column_headers, engine='python')\n",
    "amazon = pd.read_csv('C:/Users/e0145653/Documents/WGU/D213 - Advanced Data Analytics/PRFA - NLM3/amazon_cells_labelled.txt', \n",
    "                 sep='\\t', header=None, names=column_headers, engine='python')\n",
    "yelp = pd.read_csv('C:/Users/e0145653/Documents/WGU/D213 - Advanced Data Analytics/PRFA - NLM3/yelp_labelled.txt', \n",
    "                 sep='\\t', header=None, names=column_headers, engine='python')\n",
    "\n",
    "df = pd.concat((yelp, amazon, imdb), ignore_index=True)"
   ]
  },
  {
   "cell_type": "code",
   "execution_count": 7,
   "id": "9836ef7d",
   "metadata": {},
   "outputs": [
    {
     "name": "stdout",
     "output_type": "stream",
     "text": [
      "(3000, 2)\n"
     ]
    }
   ],
   "source": [
    "#what is the shape of the dataframe?\n",
    "print(df.shape)"
   ]
  },
  {
   "cell_type": "code",
   "execution_count": 8,
   "id": "1e181eff",
   "metadata": {},
   "outputs": [
    {
     "name": "stdout",
     "output_type": "stream",
     "text": [
      "<class 'pandas.core.frame.DataFrame'>\n",
      "RangeIndex: 3000 entries, 0 to 2999\n",
      "Data columns (total 2 columns):\n",
      " #   Column  Non-Null Count  Dtype  \n",
      "---  ------  --------------  -----  \n",
      " 0   Review  3000 non-null   object \n",
      " 1   Score   2000 non-null   float64\n",
      "dtypes: float64(1), object(1)\n",
      "memory usage: 47.0+ KB\n"
     ]
    }
   ],
   "source": [
    "df.info()"
   ]
  },
  {
   "cell_type": "code",
   "execution_count": 9,
   "id": "ae367bf0",
   "metadata": {
    "scrolled": true
   },
   "outputs": [
    {
     "data": {
      "text/html": [
       "<div>\n",
       "<style scoped>\n",
       "    .dataframe tbody tr th:only-of-type {\n",
       "        vertical-align: middle;\n",
       "    }\n",
       "\n",
       "    .dataframe tbody tr th {\n",
       "        vertical-align: top;\n",
       "    }\n",
       "\n",
       "    .dataframe thead th {\n",
       "        text-align: right;\n",
       "    }\n",
       "</style>\n",
       "<table border=\"1\" class=\"dataframe\">\n",
       "  <thead>\n",
       "    <tr style=\"text-align: right;\">\n",
       "      <th></th>\n",
       "      <th>Review</th>\n",
       "      <th>Score</th>\n",
       "    </tr>\n",
       "  </thead>\n",
       "  <tbody>\n",
       "    <tr>\n",
       "      <th>0</th>\n",
       "      <td>Wow... Loved this place.</td>\n",
       "      <td>1.0</td>\n",
       "    </tr>\n",
       "    <tr>\n",
       "      <th>1</th>\n",
       "      <td>Crust is not good.</td>\n",
       "      <td>0.0</td>\n",
       "    </tr>\n",
       "    <tr>\n",
       "      <th>2</th>\n",
       "      <td>Not tasty and the texture was just nasty.</td>\n",
       "      <td>0.0</td>\n",
       "    </tr>\n",
       "    <tr>\n",
       "      <th>3</th>\n",
       "      <td>Stopped by during the late May bank holiday of...</td>\n",
       "      <td>1.0</td>\n",
       "    </tr>\n",
       "    <tr>\n",
       "      <th>4</th>\n",
       "      <td>The selection on the menu was great and so wer...</td>\n",
       "      <td>1.0</td>\n",
       "    </tr>\n",
       "  </tbody>\n",
       "</table>\n",
       "</div>"
      ],
      "text/plain": [
       "                                              Review  Score\n",
       "0                           Wow... Loved this place.    1.0\n",
       "1                                 Crust is not good.    0.0\n",
       "2          Not tasty and the texture was just nasty.    0.0\n",
       "3  Stopped by during the late May bank holiday of...    1.0\n",
       "4  The selection on the menu was great and so wer...    1.0"
      ]
     },
     "execution_count": 9,
     "metadata": {},
     "output_type": "execute_result"
    }
   ],
   "source": [
    "df.head()"
   ]
  },
  {
   "cell_type": "code",
   "execution_count": 10,
   "id": "e520e109",
   "metadata": {
    "scrolled": true
   },
   "outputs": [
    {
     "name": "stdout",
     "output_type": "stream",
     "text": [
      "Review       0\n",
      "Score     1000\n",
      "dtype: int64\n",
      "\n",
      "Review       0\n",
      "Score     1000\n",
      "dtype: int64\n"
     ]
    }
   ],
   "source": [
    "#How many null/NaN values are there in this dataset?\n",
    "print(df.isna().sum())\n",
    "print(\"\")\n",
    "print(df.isnull().sum())"
   ]
  },
  {
   "cell_type": "code",
   "execution_count": 11,
   "id": "72529f7e",
   "metadata": {},
   "outputs": [
    {
     "data": {
      "text/html": [
       "<div>\n",
       "<style scoped>\n",
       "    .dataframe tbody tr th:only-of-type {\n",
       "        vertical-align: middle;\n",
       "    }\n",
       "\n",
       "    .dataframe tbody tr th {\n",
       "        vertical-align: top;\n",
       "    }\n",
       "\n",
       "    .dataframe thead th {\n",
       "        text-align: right;\n",
       "    }\n",
       "</style>\n",
       "<table border=\"1\" class=\"dataframe\">\n",
       "  <thead>\n",
       "    <tr style=\"text-align: right;\">\n",
       "      <th></th>\n",
       "      <th>Review</th>\n",
       "      <th>Score</th>\n",
       "    </tr>\n",
       "  </thead>\n",
       "  <tbody>\n",
       "    <tr>\n",
       "      <th>2000</th>\n",
       "      <td>A very, very, very slow-moving, aimless movie ...</td>\n",
       "      <td>NaN</td>\n",
       "    </tr>\n",
       "    <tr>\n",
       "      <th>2001</th>\n",
       "      <td>Not sure who was more lost - the flat characte...</td>\n",
       "      <td>NaN</td>\n",
       "    </tr>\n",
       "    <tr>\n",
       "      <th>2002</th>\n",
       "      <td>Attempting artiness with black &amp; white and cle...</td>\n",
       "      <td>NaN</td>\n",
       "    </tr>\n",
       "    <tr>\n",
       "      <th>2003</th>\n",
       "      <td>Very little music or anything to speak of.  \\t0</td>\n",
       "      <td>NaN</td>\n",
       "    </tr>\n",
       "    <tr>\n",
       "      <th>2004</th>\n",
       "      <td>The best scene in the movie was when Gerardo i...</td>\n",
       "      <td>NaN</td>\n",
       "    </tr>\n",
       "    <tr>\n",
       "      <th>...</th>\n",
       "      <td>...</td>\n",
       "      <td>...</td>\n",
       "    </tr>\n",
       "    <tr>\n",
       "      <th>2995</th>\n",
       "      <td>I just got bored watching Jessice Lange take h...</td>\n",
       "      <td>NaN</td>\n",
       "    </tr>\n",
       "    <tr>\n",
       "      <th>2996</th>\n",
       "      <td>Unfortunately, any virtue in this film's produ...</td>\n",
       "      <td>NaN</td>\n",
       "    </tr>\n",
       "    <tr>\n",
       "      <th>2997</th>\n",
       "      <td>In a word, it is embarrassing.  \\t0</td>\n",
       "      <td>NaN</td>\n",
       "    </tr>\n",
       "    <tr>\n",
       "      <th>2998</th>\n",
       "      <td>Exceptionally bad!  \\t0</td>\n",
       "      <td>NaN</td>\n",
       "    </tr>\n",
       "    <tr>\n",
       "      <th>2999</th>\n",
       "      <td>All in all its an insult to one's intelligence...</td>\n",
       "      <td>NaN</td>\n",
       "    </tr>\n",
       "  </tbody>\n",
       "</table>\n",
       "<p>1000 rows × 2 columns</p>\n",
       "</div>"
      ],
      "text/plain": [
       "                                                 Review  Score\n",
       "2000  A very, very, very slow-moving, aimless movie ...    NaN\n",
       "2001  Not sure who was more lost - the flat characte...    NaN\n",
       "2002  Attempting artiness with black & white and cle...    NaN\n",
       "2003    Very little music or anything to speak of.  \\t0    NaN\n",
       "2004  The best scene in the movie was when Gerardo i...    NaN\n",
       "...                                                 ...    ...\n",
       "2995  I just got bored watching Jessice Lange take h...    NaN\n",
       "2996  Unfortunately, any virtue in this film's produ...    NaN\n",
       "2997                In a word, it is embarrassing.  \\t0    NaN\n",
       "2998                            Exceptionally bad!  \\t0    NaN\n",
       "2999  All in all its an insult to one's intelligence...    NaN\n",
       "\n",
       "[1000 rows x 2 columns]"
      ]
     },
     "execution_count": 11,
     "metadata": {},
     "output_type": "execute_result"
    }
   ],
   "source": [
    "nan_rows = df[df['Score'].isna()]\n",
    "nan_rows"
   ]
  },
  {
   "cell_type": "markdown",
   "id": "f56de493",
   "metadata": {},
   "source": [
    "I can see here in this dataset, that despite my best efforts at reading in the data with Pandas `read_csv()` function I still have a few rows which did not properly pull the score out of the text correctly. I originaly read in these texts looking for separation via tabbed delimination (Bruce, 2020). \n",
    "\n",
    "After realizing this did not work accurately, I used an approach to look for extra spaces using a `re` (Regex, i.e., Regular Expression) format. This worked much better at splitting the data into rows, but for 1,000 of these reviews the score did not convert properly. \n",
    "\n",
    "Looking at the dataset, I can see that the last character in the Review column is actually the Score that didn't read in correctly. I address this below by writing a function to fix these scores. First, defining a variable where the scores are NaN. Then, for each row with a NaN score, we check that the Review > 0 and that the last character in the row is a digit. If so, we store that digit in the Score column instead, and then remove that character from the Review column. "
   ]
  },
  {
   "cell_type": "code",
   "execution_count": 12,
   "id": "388bf1d9",
   "metadata": {},
   "outputs": [],
   "source": [
    "# Function to process the DataFrame\n",
    "def fix_scores(df):\n",
    "    # Find NaN scores\n",
    "    nan_score_rows = df['Score'].isna()\n",
    "    \n",
    "    # Process each row with NaN score\n",
    "    for index in df[nan_score_rows].index:\n",
    "        review = df.at[index, 'Review']\n",
    "\n",
    "        # Ensure the Review is not None and has at least one character\n",
    "        if review and len(review) > 0:\n",
    "            # Extract the last character if it's a digit\n",
    "            last_char = review[-1]\n",
    "            if last_char.isdigit():\n",
    "                # Update the Score with the last character\n",
    "                df.at[index, 'Score'] = int(last_char)\n",
    "                # Remove the last character from the Review\n",
    "                df.at[index, 'Review'] = review[:-1]\n",
    "\n",
    "# Fix the DataFrame\n",
    "fix_scores(df)"
   ]
  },
  {
   "cell_type": "code",
   "execution_count": 13,
   "id": "0bad3643",
   "metadata": {},
   "outputs": [
    {
     "name": "stdout",
     "output_type": "stream",
     "text": [
      "Review    0\n",
      "Score     0\n",
      "dtype: int64\n",
      "\n",
      "Review    0\n",
      "Score     0\n",
      "dtype: int64\n"
     ]
    }
   ],
   "source": [
    "#How many null/NaN values are there in this dataset?\n",
    "print(df.isna().sum())\n",
    "print(\"\")\n",
    "print(df.isnull().sum())"
   ]
  },
  {
   "cell_type": "markdown",
   "id": "d68721d8",
   "metadata": {},
   "source": [
    "We can now see that we have no more NaN values in either column. "
   ]
  },
  {
   "cell_type": "code",
   "execution_count": 14,
   "id": "afd739d7",
   "metadata": {},
   "outputs": [
    {
     "data": {
      "text/html": [
       "<div>\n",
       "<style scoped>\n",
       "    .dataframe tbody tr th:only-of-type {\n",
       "        vertical-align: middle;\n",
       "    }\n",
       "\n",
       "    .dataframe tbody tr th {\n",
       "        vertical-align: top;\n",
       "    }\n",
       "\n",
       "    .dataframe thead th {\n",
       "        text-align: right;\n",
       "    }\n",
       "</style>\n",
       "<table border=\"1\" class=\"dataframe\">\n",
       "  <thead>\n",
       "    <tr style=\"text-align: right;\">\n",
       "      <th></th>\n",
       "      <th>Review</th>\n",
       "      <th>Score</th>\n",
       "      <th>total_words</th>\n",
       "      <th>total_chars</th>\n",
       "    </tr>\n",
       "  </thead>\n",
       "  <tbody>\n",
       "    <tr>\n",
       "      <th>2620</th>\n",
       "      <td>This is a masterful piece of film-making, with...</td>\n",
       "      <td>1.0</td>\n",
       "      <td>71</td>\n",
       "      <td>480</td>\n",
       "    </tr>\n",
       "    <tr>\n",
       "      <th>2421</th>\n",
       "      <td>This movie is excellent!Angel is beautiful and...</td>\n",
       "      <td>1.0</td>\n",
       "      <td>62</td>\n",
       "      <td>382</td>\n",
       "    </tr>\n",
       "    <tr>\n",
       "      <th>2298</th>\n",
       "      <td>I have to mention this and it is a huge SPOILE...</td>\n",
       "      <td>1.0</td>\n",
       "      <td>61</td>\n",
       "      <td>336</td>\n",
       "    </tr>\n",
       "    <tr>\n",
       "      <th>2428</th>\n",
       "      <td>The use of slow-motion needlessly repeats itse...</td>\n",
       "      <td>0.0</td>\n",
       "      <td>56</td>\n",
       "      <td>322</td>\n",
       "    </tr>\n",
       "    <tr>\n",
       "      <th>2390</th>\n",
       "      <td>Though The Wind and the Lion is told largely t...</td>\n",
       "      <td>1.0</td>\n",
       "      <td>54</td>\n",
       "      <td>337</td>\n",
       "    </tr>\n",
       "    <tr>\n",
       "      <th>...</th>\n",
       "      <td>...</td>\n",
       "      <td>...</td>\n",
       "      <td>...</td>\n",
       "      <td>...</td>\n",
       "    </tr>\n",
       "    <tr>\n",
       "      <th>2125</th>\n",
       "      <td>10/10  \\t</td>\n",
       "      <td>1.0</td>\n",
       "      <td>1</td>\n",
       "      <td>8</td>\n",
       "    </tr>\n",
       "    <tr>\n",
       "      <th>1463</th>\n",
       "      <td>Disappointed!.</td>\n",
       "      <td>0.0</td>\n",
       "      <td>1</td>\n",
       "      <td>14</td>\n",
       "    </tr>\n",
       "    <tr>\n",
       "      <th>2155</th>\n",
       "      <td>Horrible!  \\t</td>\n",
       "      <td>0.0</td>\n",
       "      <td>1</td>\n",
       "      <td>12</td>\n",
       "    </tr>\n",
       "    <tr>\n",
       "      <th>2162</th>\n",
       "      <td>Awful.  \\t</td>\n",
       "      <td>0.0</td>\n",
       "      <td>1</td>\n",
       "      <td>9</td>\n",
       "    </tr>\n",
       "    <tr>\n",
       "      <th>2124</th>\n",
       "      <td>Brilliant!  \\t</td>\n",
       "      <td>1.0</td>\n",
       "      <td>1</td>\n",
       "      <td>13</td>\n",
       "    </tr>\n",
       "  </tbody>\n",
       "</table>\n",
       "<p>3000 rows × 4 columns</p>\n",
       "</div>"
      ],
      "text/plain": [
       "                                                 Review  Score  total_words  \\\n",
       "2620  This is a masterful piece of film-making, with...    1.0           71   \n",
       "2421  This movie is excellent!Angel is beautiful and...    1.0           62   \n",
       "2298  I have to mention this and it is a huge SPOILE...    1.0           61   \n",
       "2428  The use of slow-motion needlessly repeats itse...    0.0           56   \n",
       "2390  Though The Wind and the Lion is told largely t...    1.0           54   \n",
       "...                                                 ...    ...          ...   \n",
       "2125                                          10/10  \\t    1.0            1   \n",
       "1463                                     Disappointed!.    0.0            1   \n",
       "2155                                      Horrible!  \\t    0.0            1   \n",
       "2162                                         Awful.  \\t    0.0            1   \n",
       "2124                                     Brilliant!  \\t    1.0            1   \n",
       "\n",
       "      total_chars  \n",
       "2620          480  \n",
       "2421          382  \n",
       "2298          336  \n",
       "2428          322  \n",
       "2390          337  \n",
       "...           ...  \n",
       "2125            8  \n",
       "1463           14  \n",
       "2155           12  \n",
       "2162            9  \n",
       "2124           13  \n",
       "\n",
       "[3000 rows x 4 columns]"
      ]
     },
     "execution_count": 14,
     "metadata": {},
     "output_type": "execute_result"
    }
   ],
   "source": [
    "df['total_words'] = [len(x.split()) for x in df['Review'].tolist()]\n",
    "df['total_chars'] = df['Review'].apply(len)\n",
    "df_sorted = df.sort_values(by='total_words', ascending=False)\n",
    "df_sorted"
   ]
  },
  {
   "cell_type": "markdown",
   "id": "7cc307bb",
   "metadata": {},
   "source": [
    "It's important to know how many words and characters are in each row. This will be used later on when we add in hyperparameter tuning in our model. A good rule is that the input length on the `Embedding` layer in TensorFlow should be set to the maximum length of total words in any row. We can see that so far in this dataset, our maximum embedding length would be 71. But there are more steps to take to prepare our text before we can run our LSTM model, so for now this value is a good proposal for our embedding length for our LSTM model. "
   ]
  },
  {
   "cell_type": "code",
   "execution_count": 15,
   "id": "616d4f4f",
   "metadata": {
    "scrolled": false
   },
   "outputs": [
    {
     "name": "stdout",
     "output_type": "stream",
     "text": [
      "['W', 'o', 'w', '.', ' ', 'L', 'v', 'e', 'd', 't', 'h', 'i', 's', 'p', 'l', 'a', 'c', 'C', 'r', 'u', 'n', 'g', 'N', 'y', 'x', 'j', 'S', 'b', 'M', 'k', 'f', 'R', 'm', 'T', 'I', 'H', \"'\", 'A', ')', ',', '!', 'V', 'B', 'z', '-', '4', 'O', '2', '3', 'q', 'P', 'F', 'G', '5', '1', '0', 'E', 'Z', 'D', 'U', 'J', 'Y', 'K', '&', 'é', ':', ';', '9', '7', '(', 'X', '\"', '/', '8', 'Q', '$', '%', '+', '*', '?', '6', 'ê', '#', '[', ']', '\\t', '\\x96', '\\x85', 'å', '\\x97']\n"
     ]
    }
   ],
   "source": [
    "#initial list of words/characters in reviews\n",
    "reviews = df['Review']\n",
    "\n",
    "list_of_chars = []\n",
    "\n",
    "for comments in reviews:\n",
    "    for character in comments:\n",
    "        if character not in list_of_chars:\n",
    "            list_of_chars.append(character)\n",
    "\n",
    "print(list_of_chars)"
   ]
  },
  {
   "cell_type": "code",
   "execution_count": 16,
   "id": "f529b7cf",
   "metadata": {},
   "outputs": [
    {
     "name": "stdout",
     "output_type": "stream",
     "text": [
      "Empty DataFrame\n",
      "Columns: [Review, Score, total_words, total_chars, Emojis]\n",
      "Index: []\n"
     ]
    }
   ],
   "source": [
    "# Define a regex pattern for emojis\n",
    "emoji_pattern = re.compile(\n",
    "    \"[\"\n",
    "    \"\\U0001F600-\\U0001F64F\"  # emoticons\n",
    "    \"\\U0001F300-\\U0001F5FF\"  # symbols & pictographs\n",
    "    \"\\U0001F680-\\U0001F6FF\"  # transport & map symbols\n",
    "    \"\\U0001F700-\\U0001F77F\"  # alchemical symbols\n",
    "    \"\\U0001F780-\\U0001F7FF\"  # Geometric Shapes Extended\n",
    "    \"\\U0001F800-\\U0001F8FF\"  # Supplemental Arrows-C\n",
    "    \"\\U0001F900-\\U0001F9FF\"  # Supplemental Symbols and Pictographs\n",
    "    \"\\U0001FA00-\\U0001FA6F\"  # Chess Symbols\n",
    "    \"\\U0001FA70-\\U0001FAFF\"  # Symbols and Pictographs Extended-A\n",
    "    \"\\U00002702-\\U000027B0\"  # Dingbats\n",
    "    \"\\U000024C2-\\U0001F251\"\n",
    "    \"]+\", flags=re.UNICODE\n",
    ")\n",
    "\n",
    "# Function to find emojis in a text\n",
    "def find_emojis(text):\n",
    "    return emoji_pattern.findall(text)\n",
    "\n",
    "# Apply the function to the 'Review' column\n",
    "df['Emojis'] = df['Review'].apply(find_emojis)\n",
    "\n",
    "# Filter the DataFrame to show only rows with non-empty 'Emojis'\n",
    "df_with_emojis = df[df['Emojis'].apply(lambda x: len(x) > 0)]\n",
    "\n",
    "# Display the filtered DataFrame\n",
    "print(df_with_emojis)"
   ]
  },
  {
   "cell_type": "markdown",
   "id": "ea03c079",
   "metadata": {},
   "source": [
    "I did not find unicoded emoji's in these reviews. However, as you can see below, when checking for non-English characters, I ran into an odd question-mark box. Is this Super Mario Bros I thought? No, I believe this was badly converted emojis or special characters. Therefore, we need to deal with these. I therefore, created a function to find these characters and replace them with an empty space."
   ]
  },
  {
   "cell_type": "code",
   "execution_count": 17,
   "id": "91b25781",
   "metadata": {},
   "outputs": [
    {
     "name": "stdout",
     "output_type": "stream",
     "text": [
      "                                                 Review  Score  total_words  \\\n",
      "2018  It's practically perfect in all of them  a tr...    1.0           17   \n",
      "2178              The script is",
      "was there a script?  \\t    0.0            7   \n",
      "2182      I'll even say it again  this is torture.  \\t    0.0            9   \n",
      "2517  The script is bad, very bad  it contains both...    0.0           24   \n",
      "2557  Let's start with all the problemsthe acting, ...    0.0           16   \n",
      "2760  Technically, the film is well made with impres...    1.0           35   \n",
      "2863  But, Kevin Spacey is an excellent, verbal tsun...    1.0           21   \n",
      "2967  Definitely worth seeing",
      " it's the sort of thou...    1.0           20   \n",
      "\n",
      "      total_chars Emojis NonEnglish  \n",
      "2018           95     []        []  \n",
      "2178           36     []        [",
      "]  \n",
      "2182           44     []        []  \n",
      "2517          128     []        []  \n",
      "2557          104     []        []  \n",
      "2760          229     []        []  \n",
      "2863          124     []        []  \n",
      "2967          129     []        [",
      "]  \n"
     ]
    }
   ],
   "source": [
    "# Define a regex pattern for non-English characters\n",
    "non_english_pattern = re.compile(r'[^\\x00-\\x7F\\u00E9\\u00EA\\u00E5]+')\n",
    "\n",
    "# Function to find non-English characters in a text\n",
    "def find_non_english(text):\n",
    "    return non_english_pattern.findall(text)\n",
    "\n",
    "# Apply the function to the 'Review' column\n",
    "df['NonEnglish'] = df['Review'].apply(find_non_english)\n",
    "\n",
    "# Filter the DataFrame to show only rows with non-empty 'Emojis'\n",
    "df_with_non_english = df[df['NonEnglish'].apply(lambda x: len(x) > 0)]\n",
    "\n",
    "# Display the filtered DataFrame\n",
    "print(df_with_non_english)"
   ]
  },
  {
   "cell_type": "code",
   "execution_count": 18,
   "id": "ba59d236",
   "metadata": {},
   "outputs": [],
   "source": [
    "# Function to replace non-English characters with a space\n",
    "def replace_non_english(text):\n",
    "    return non_english_pattern.sub(' ', text)\n",
    "\n",
    "# Apply the function to the 'Review' column\n",
    "df['Review'] = df['Review'].apply(replace_non_english)"
   ]
  },
  {
   "cell_type": "code",
   "execution_count": 19,
   "id": "a3af4eb7",
   "metadata": {},
   "outputs": [
    {
     "name": "stdout",
     "output_type": "stream",
     "text": [
      "Empty DataFrame\n",
      "Columns: [Review, Score, total_words, total_chars, Emojis, NonEnglish]\n",
      "Index: []\n"
     ]
    }
   ],
   "source": [
    "# Apply the function to the 'Review' column\n",
    "df['NonEnglish'] = df['Review'].apply(find_non_english)\n",
    "\n",
    "# Filter the DataFrame to show only rows with non-empty 'Emojis'\n",
    "df_with_non_english = df[df['NonEnglish'].apply(lambda x: len(x) > 0)]\n",
    "\n",
    "# Display the filtered DataFrame\n",
    "print(df_with_non_english)"
   ]
  },
  {
   "cell_type": "markdown",
   "id": "a5f2e2f9",
   "metadata": {},
   "source": [
    "We can now see that there are no more non-English characters needing to be cleaned, or emojis. Therefore, since these columns are blank, I am going to drop them from our dataset now as they are no longer necessary for this assignment."
   ]
  },
  {
   "cell_type": "code",
   "execution_count": 20,
   "id": "6f35e48f",
   "metadata": {},
   "outputs": [],
   "source": [
    "# Drop Emojis and NonEnglish columns from Dataframe\n",
    "df = df.drop(columns=['Emojis', 'NonEnglish'])"
   ]
  },
  {
   "cell_type": "code",
   "execution_count": 21,
   "id": "d497ab71",
   "metadata": {},
   "outputs": [
    {
     "data": {
      "text/html": [
       "<div>\n",
       "<style scoped>\n",
       "    .dataframe tbody tr th:only-of-type {\n",
       "        vertical-align: middle;\n",
       "    }\n",
       "\n",
       "    .dataframe tbody tr th {\n",
       "        vertical-align: top;\n",
       "    }\n",
       "\n",
       "    .dataframe thead th {\n",
       "        text-align: right;\n",
       "    }\n",
       "</style>\n",
       "<table border=\"1\" class=\"dataframe\">\n",
       "  <thead>\n",
       "    <tr style=\"text-align: right;\">\n",
       "      <th></th>\n",
       "      <th>Review</th>\n",
       "      <th>Score</th>\n",
       "      <th>total_words</th>\n",
       "      <th>total_chars</th>\n",
       "    </tr>\n",
       "  </thead>\n",
       "  <tbody>\n",
       "    <tr>\n",
       "      <th>0</th>\n",
       "      <td>Wow... Loved this place.</td>\n",
       "      <td>1.0</td>\n",
       "      <td>4</td>\n",
       "      <td>24</td>\n",
       "    </tr>\n",
       "    <tr>\n",
       "      <th>1</th>\n",
       "      <td>Crust is not good.</td>\n",
       "      <td>0.0</td>\n",
       "      <td>4</td>\n",
       "      <td>18</td>\n",
       "    </tr>\n",
       "    <tr>\n",
       "      <th>2</th>\n",
       "      <td>Not tasty and the texture was just nasty.</td>\n",
       "      <td>0.0</td>\n",
       "      <td>8</td>\n",
       "      <td>41</td>\n",
       "    </tr>\n",
       "    <tr>\n",
       "      <th>3</th>\n",
       "      <td>Stopped by during the late May bank holiday of...</td>\n",
       "      <td>1.0</td>\n",
       "      <td>15</td>\n",
       "      <td>87</td>\n",
       "    </tr>\n",
       "    <tr>\n",
       "      <th>4</th>\n",
       "      <td>The selection on the menu was great and so wer...</td>\n",
       "      <td>1.0</td>\n",
       "      <td>12</td>\n",
       "      <td>59</td>\n",
       "    </tr>\n",
       "    <tr>\n",
       "      <th>...</th>\n",
       "      <td>...</td>\n",
       "      <td>...</td>\n",
       "      <td>...</td>\n",
       "      <td>...</td>\n",
       "    </tr>\n",
       "    <tr>\n",
       "      <th>2995</th>\n",
       "      <td>I just got bored watching Jessice Lange take h...</td>\n",
       "      <td>0.0</td>\n",
       "      <td>11</td>\n",
       "      <td>64</td>\n",
       "    </tr>\n",
       "    <tr>\n",
       "      <th>2996</th>\n",
       "      <td>Unfortunately, any virtue in this film's produ...</td>\n",
       "      <td>0.0</td>\n",
       "      <td>14</td>\n",
       "      <td>93</td>\n",
       "    </tr>\n",
       "    <tr>\n",
       "      <th>2997</th>\n",
       "      <td>In a word, it is embarrassing.  \\t</td>\n",
       "      <td>0.0</td>\n",
       "      <td>6</td>\n",
       "      <td>33</td>\n",
       "    </tr>\n",
       "    <tr>\n",
       "      <th>2998</th>\n",
       "      <td>Exceptionally bad!  \\t</td>\n",
       "      <td>0.0</td>\n",
       "      <td>2</td>\n",
       "      <td>21</td>\n",
       "    </tr>\n",
       "    <tr>\n",
       "      <th>2999</th>\n",
       "      <td>All in all its an insult to one's intelligence...</td>\n",
       "      <td>0.0</td>\n",
       "      <td>15</td>\n",
       "      <td>76</td>\n",
       "    </tr>\n",
       "  </tbody>\n",
       "</table>\n",
       "<p>3000 rows × 4 columns</p>\n",
       "</div>"
      ],
      "text/plain": [
       "                                                 Review  Score  total_words  \\\n",
       "0                              Wow... Loved this place.    1.0            4   \n",
       "1                                    Crust is not good.    0.0            4   \n",
       "2             Not tasty and the texture was just nasty.    0.0            8   \n",
       "3     Stopped by during the late May bank holiday of...    1.0           15   \n",
       "4     The selection on the menu was great and so wer...    1.0           12   \n",
       "...                                                 ...    ...          ...   \n",
       "2995  I just got bored watching Jessice Lange take h...    0.0           11   \n",
       "2996  Unfortunately, any virtue in this film's produ...    0.0           14   \n",
       "2997                 In a word, it is embarrassing.  \\t    0.0            6   \n",
       "2998                             Exceptionally bad!  \\t    0.0            2   \n",
       "2999  All in all its an insult to one's intelligence...    0.0           15   \n",
       "\n",
       "      total_chars  \n",
       "0              24  \n",
       "1              18  \n",
       "2              41  \n",
       "3              87  \n",
       "4              59  \n",
       "...           ...  \n",
       "2995           64  \n",
       "2996           93  \n",
       "2997           33  \n",
       "2998           21  \n",
       "2999           76  \n",
       "\n",
       "[3000 rows x 4 columns]"
      ]
     },
     "execution_count": 21,
     "metadata": {},
     "output_type": "execute_result"
    }
   ],
   "source": [
    "df"
   ]
  },
  {
   "cell_type": "code",
   "execution_count": 22,
   "id": "9efe371e",
   "metadata": {},
   "outputs": [
    {
     "name": "stdout",
     "output_type": "stream",
     "text": [
      "Vocabulary Size: 5269\n"
     ]
    }
   ],
   "source": [
    "#identify vocabulary size\n",
    "tokenizer = Tokenizer(oov_token=\"<OOV>\")\n",
    "tokenizer.fit_on_texts(df['Review'])\n",
    "vocab_size = len(tokenizer.word_index) +1\n",
    "print(\"Vocabulary Size:\", vocab_size)"
   ]
  },
  {
   "cell_type": "code",
   "execution_count": 23,
   "id": "58a11c71",
   "metadata": {},
   "outputs": [
    {
     "data": {
      "image/png": "[encoded data removed]",
      "text/plain": [
       "<Figure size 640x480 with 1 Axes>"
      ]
     },
     "metadata": {},
     "output_type": "display_data"
    },
    {
     "name": "stdout",
     "output_type": "stream",
     "text": [
      "Optimal max_length covering 95% of sequences: 26\n"
     ]
    }
   ],
   "source": [
    "# tokenization\n",
    "tokenizer = Tokenizer(num_words=5000, oov_token='<OOV>')\n",
    "tokenizer.fit_on_texts(df['Review'])\n",
    "\n",
    "# convert texts to sequences\n",
    "sequences = tokenizer.texts_to_sequences(df['Review'])\n",
    "\n",
    "# calculate the length of sequences\n",
    "sequence_lengths = [len(seq) for seq in sequences]\n",
    "\n",
    "# Plot histogram of sequence lengths\n",
    "plt.hist(sequence_lengths, bins=range(1, max(sequence_lengths) + 1), edgecolor='black')\n",
    "plt.title('Distribution of Text Lengths')\n",
    "plt.xlabel('Sequence Length')\n",
    "plt.ylabel('Frequency')\n",
    "plt.show()\n",
    "\n",
    "# Determine max_length based on coverage\n",
    "def find_optimal_max_length(lengths, coverage=0.95):\n",
    "    sorted_lengths = sorted(lengths)\n",
    "    cutoff_index = int(len(sorted_lengths) * coverage)\n",
    "    return sorted_lengths[cutoff_index]\n",
    "\n",
    "optimal_max_length = find_optimal_max_length(sequence_lengths)\n",
    "print(f'Optimal max_length covering 95% of sequences: {optimal_max_length}')"
   ]
  },
  {
   "cell_type": "markdown",
   "id": "ce0cddc6",
   "metadata": {},
   "source": [
    "To get 95% coverage in our dataset, we should go with a maximum sequence length of 26. "
   ]
  },
  {
   "cell_type": "markdown",
   "id": "3eeeea23",
   "metadata": {},
   "source": [
    "### B2: Tokenization <a class=\"anchor\" id=\"b2\"></a>\n",
    "\n",
    "Tokenization is a crucial preprocessing step in *Natural Language Processing (NLP)* and text analysis. The process takes the data, in this example, text and attempts to break this down into smaller chunks, words. These are then called tokens (Lutkevich, 2023). \n",
    "\n",
    "The goal of tokenization is to minimize the amount of data we use in our model. By sending in too much data, this can cause our model to perform poorly, so we need to normalize our text during the tokenization process. \n",
    "\n",
    "Below, you will see the code which takes our review text data and removes punctuation. Afterall, these computational models do not care about whether a word has a period, exclamation point, or question mark. It can find the sentiment without these things, so we will remove punctuation. Also, to further reduce the words, it's not important to have 2 identical words where one is capitalized and the other is not. So we can reduce this in our tokenization process by just taking the lowercase of each word in our dataset. Continuing on, we will also remove any digit, additional whitespace, and *stop words*, which are words that do not carry significant meaning (such as \"a\", \"the\", or \"you\").\n",
    "\n",
    "Lastly, we will lemmatize the tokens which finds the root of words and changes the word to it's root form. For example, the following words all have the same root word \"change\":\n",
    "   * change\n",
    "   * changing\n",
    "   * changed\n",
    "   * changes\n",
    "   * changer\n",
    "\n",
    "So, lemmatization will find any of these related words and just update them all to *change*. Therefore, less words, and better streamlined text. It may not be as readible to humans, but the NN model works much better after lemmatization."
   ]
  },
  {
   "cell_type": "code",
   "execution_count": 24,
   "id": "ed921e91",
   "metadata": {
    "scrolled": false
   },
   "outputs": [],
   "source": [
    "# Initialize the lemmatizer\n",
    "lemmatizer = WordNetLemmatizer()\n",
    "\n",
    "# Function to convert NLTK POS tags to WordNet POS tags\n",
    "def get_wordnet_pos(nltk_tag):\n",
    "    if nltk_tag.startswith('J'):\n",
    "        return wordnet.ADJ\n",
    "    elif nltk_tag.startswith('V'):\n",
    "        return wordnet.VERB\n",
    "    elif nltk_tag.startswith('N'):\n",
    "        return wordnet.NOUN\n",
    "    elif nltk_tag.startswith('R'):\n",
    "        return wordnet.ADV\n",
    "    else:\n",
    "        return None\n",
    "\n",
    "#create blank list\n",
    "description_list = []\n",
    "\n",
    "for description in df['Review']:\n",
    "    # remove punctuations\n",
    "    import string\n",
    "    description = description.translate(str.maketrans(' ', ' ', string.punctuation))\n",
    "    # convert to lower case\n",
    "    description = description.lower()\n",
    "    # remove numbers\n",
    "    import re\n",
    "    description = re.sub(r'\\d+', ' ', description)\n",
    "    # remove whitespace\n",
    "    description = description.strip()\n",
    "    description = re.sub(r'\\s+', ' ', description)\n",
    "    # perform tokenization\n",
    "    description = nltk.word_tokenize(description)\n",
    "    # remove stopwords\n",
    "    stop_words = set(stopwords.words('english'))\n",
    "    tokens = [word for word in description if word not in stop_words]\n",
    "    # POS tagging\n",
    "    pos_tags = nltk.pos_tag(tokens)\n",
    "    # Perform lemmatization with POS tagging\n",
    "    lemmed_tokens = [\n",
    "        lemmatizer.lemmatize(word, get_wordnet_pos(pos) or wordnet.NOUN)\n",
    "        for word, pos in pos_tags\n",
    "    ]\n",
    "    # Append the processed description to the list\n",
    "    description_list.append(' '.join(lemmed_tokens))"
   ]
  },
  {
   "cell_type": "code",
   "execution_count": 25,
   "id": "899730ba",
   "metadata": {},
   "outputs": [
    {
     "data": {
      "text/html": [
       "<div>\n",
       "<style scoped>\n",
       "    .dataframe tbody tr th:only-of-type {\n",
       "        vertical-align: middle;\n",
       "    }\n",
       "\n",
       "    .dataframe tbody tr th {\n",
       "        vertical-align: top;\n",
       "    }\n",
       "\n",
       "    .dataframe thead th {\n",
       "        text-align: right;\n",
       "    }\n",
       "</style>\n",
       "<table border=\"1\" class=\"dataframe\">\n",
       "  <thead>\n",
       "    <tr style=\"text-align: right;\">\n",
       "      <th></th>\n",
       "      <th>Review</th>\n",
       "      <th>Score</th>\n",
       "      <th>total_words</th>\n",
       "      <th>total_chars</th>\n",
       "      <th>Cleaned_Review</th>\n",
       "    </tr>\n",
       "  </thead>\n",
       "  <tbody>\n",
       "    <tr>\n",
       "      <th>0</th>\n",
       "      <td>Wow... Loved this place.</td>\n",
       "      <td>1.0</td>\n",
       "      <td>4</td>\n",
       "      <td>24</td>\n",
       "      <td>wow love place</td>\n",
       "    </tr>\n",
       "    <tr>\n",
       "      <th>1</th>\n",
       "      <td>Crust is not good.</td>\n",
       "      <td>0.0</td>\n",
       "      <td>4</td>\n",
       "      <td>18</td>\n",
       "      <td>crust good</td>\n",
       "    </tr>\n",
       "    <tr>\n",
       "      <th>2</th>\n",
       "      <td>Not tasty and the texture was just nasty.</td>\n",
       "      <td>0.0</td>\n",
       "      <td>8</td>\n",
       "      <td>41</td>\n",
       "      <td>tasty texture nasty</td>\n",
       "    </tr>\n",
       "    <tr>\n",
       "      <th>3</th>\n",
       "      <td>Stopped by during the late May bank holiday of...</td>\n",
       "      <td>1.0</td>\n",
       "      <td>15</td>\n",
       "      <td>87</td>\n",
       "      <td>stop late may bank holiday rick steve recommen...</td>\n",
       "    </tr>\n",
       "    <tr>\n",
       "      <th>4</th>\n",
       "      <td>The selection on the menu was great and so wer...</td>\n",
       "      <td>1.0</td>\n",
       "      <td>12</td>\n",
       "      <td>59</td>\n",
       "      <td>selection menu great price</td>\n",
       "    </tr>\n",
       "    <tr>\n",
       "      <th>...</th>\n",
       "      <td>...</td>\n",
       "      <td>...</td>\n",
       "      <td>...</td>\n",
       "      <td>...</td>\n",
       "      <td>...</td>\n",
       "    </tr>\n",
       "    <tr>\n",
       "      <th>2995</th>\n",
       "      <td>I just got bored watching Jessice Lange take h...</td>\n",
       "      <td>0.0</td>\n",
       "      <td>11</td>\n",
       "      <td>64</td>\n",
       "      <td>get bored watching jessice lange take clothes</td>\n",
       "    </tr>\n",
       "    <tr>\n",
       "      <th>2996</th>\n",
       "      <td>Unfortunately, any virtue in this film's produ...</td>\n",
       "      <td>0.0</td>\n",
       "      <td>14</td>\n",
       "      <td>93</td>\n",
       "      <td>unfortunately virtue film production work lose...</td>\n",
       "    </tr>\n",
       "    <tr>\n",
       "      <th>2997</th>\n",
       "      <td>In a word, it is embarrassing.  \\t</td>\n",
       "      <td>0.0</td>\n",
       "      <td>6</td>\n",
       "      <td>33</td>\n",
       "      <td>word embarrassing</td>\n",
       "    </tr>\n",
       "    <tr>\n",
       "      <th>2998</th>\n",
       "      <td>Exceptionally bad!  \\t</td>\n",
       "      <td>0.0</td>\n",
       "      <td>2</td>\n",
       "      <td>21</td>\n",
       "      <td>exceptionally bad</td>\n",
       "    </tr>\n",
       "    <tr>\n",
       "      <th>2999</th>\n",
       "      <td>All in all its an insult to one's intelligence...</td>\n",
       "      <td>0.0</td>\n",
       "      <td>15</td>\n",
       "      <td>76</td>\n",
       "      <td>insult one intelligence huge waste money</td>\n",
       "    </tr>\n",
       "  </tbody>\n",
       "</table>\n",
       "<p>3000 rows × 5 columns</p>\n",
       "</div>"
      ],
      "text/plain": [
       "                                                 Review  Score  total_words  \\\n",
       "0                              Wow... Loved this place.    1.0            4   \n",
       "1                                    Crust is not good.    0.0            4   \n",
       "2             Not tasty and the texture was just nasty.    0.0            8   \n",
       "3     Stopped by during the late May bank holiday of...    1.0           15   \n",
       "4     The selection on the menu was great and so wer...    1.0           12   \n",
       "...                                                 ...    ...          ...   \n",
       "2995  I just got bored watching Jessice Lange take h...    0.0           11   \n",
       "2996  Unfortunately, any virtue in this film's produ...    0.0           14   \n",
       "2997                 In a word, it is embarrassing.  \\t    0.0            6   \n",
       "2998                             Exceptionally bad!  \\t    0.0            2   \n",
       "2999  All in all its an insult to one's intelligence...    0.0           15   \n",
       "\n",
       "      total_chars                                     Cleaned_Review  \n",
       "0              24                                     wow love place  \n",
       "1              18                                         crust good  \n",
       "2              41                                tasty texture nasty  \n",
       "3              87  stop late may bank holiday rick steve recommen...  \n",
       "4              59                         selection menu great price  \n",
       "...           ...                                                ...  \n",
       "2995           64      get bored watching jessice lange take clothes  \n",
       "2996           93  unfortunately virtue film production work lose...  \n",
       "2997           33                                  word embarrassing  \n",
       "2998           21                                  exceptionally bad  \n",
       "2999           76           insult one intelligence huge waste money  \n",
       "\n",
       "[3000 rows x 5 columns]"
      ]
     },
     "execution_count": 25,
     "metadata": {},
     "output_type": "execute_result"
    }
   ],
   "source": [
    "assert len(description_list) == len(df)\n",
    "\n",
    "df['Cleaned_Review'] = description_list\n",
    "df"
   ]
  },
  {
   "cell_type": "code",
   "execution_count": 26,
   "id": "1d3122af",
   "metadata": {},
   "outputs": [
    {
     "data": {
      "image/png": "[encoded data removed]",
      "text/plain": [
       "<Figure size 640x480 with 1 Axes>"
      ]
     },
     "metadata": {},
     "output_type": "display_data"
    }
   ],
   "source": [
    "from wordcloud import WordCloud, STOPWORDS, ImageColorGenerator\n",
    "from PIL import Image\n",
    "\n",
    "# Add additional stopwords\n",
    "stop_words = set(STOPWORDS)\n",
    "stop_words.update(['br', 'href'])\n",
    "\n",
    "# Combine all text from the dataframe into a single string\n",
    "textt = \" \".join(review for review in df.Cleaned_Review)\n",
    "\n",
    "# Generate the word cloud\n",
    "wordcloud = WordCloud(stopwords=stop_words, background_color='black').generate(textt)\n",
    "\n",
    "# Display the generated word cloud\n",
    "plt.imshow(wordcloud, interpolation='bilinear')\n",
    "plt.axis('off')  # Turn off axis\n",
    "plt.savefig('wordcloud.png')\n",
    "plt.show()  # Display the plot"
   ]
  },
  {
   "cell_type": "markdown",
   "id": "03c8f30f",
   "metadata": {},
   "source": [
    "### B3: Padding Process <a class=\"anchor\" id=\"b3\"></a>\n",
    "\n",
    "\"Padding\" is a process by which extra tokens (typically zeros) are added to either the end or the beginning of the tokenized vector. This is used to ensure that all input sequences have the same length which is necessary for batch processing in neural networks. \n",
    "\n",
    "In my code below, I chose to append these *pads* to the end of the sequences. I am using a sequence length of 26 as per the analysis performed in step B1. "
   ]
  },
  {
   "cell_type": "code",
   "execution_count": 27,
   "id": "a856bff4",
   "metadata": {},
   "outputs": [
    {
     "name": "stdout",
     "output_type": "stream",
     "text": [
      "Training Set Size: (2400,)\n",
      "Testing Set Size: (600,)\n"
     ]
    }
   ],
   "source": [
    "# Convert text data to features\n",
    "X = np.array(description_list)\n",
    "\n",
    "# Get target values\n",
    "y = df['Score'].values\n",
    "\n",
    "# Split dataframe into training/testing sets\n",
    "X_train, X_test, y_train, y_test = train_test_split(X, y, test_size = 0.20, random_state = 1214, stratify = y)\n",
    "\n",
    "# Convert y_train and y_test to Pandas Series\n",
    "y_train = pd.Series(y_train)\n",
    "y_test  = pd.Series(y_test)\n",
    "\n",
    "#view training/testing sets\n",
    "print(\"Training Set Size:\", X_train.shape)\n",
    "print(\"Testing Set Size:\", X_test.shape)"
   ]
  },
  {
   "cell_type": "code",
   "execution_count": 35,
   "id": "97309263",
   "metadata": {},
   "outputs": [
    {
     "name": "stdout",
     "output_type": "stream",
     "text": [
      "Train vocab size:  3866\n",
      "Test vocab size:  4438\n"
     ]
    }
   ],
   "source": [
    "# Fit tokenizer on X_train\n",
    "tokenizer = Tokenizer(num_words=5000)\n",
    "tokenizer.fit_on_texts(X_train)\n",
    "\n",
    "# apply padding to training data\n",
    "sequences_train = tokenizer.texts_to_sequences(X_train)\n",
    "padded_train = pad_sequences(sequences_train, \n",
    "                             padding='post',\n",
    "                             maxlen=26)\n",
    "\n",
    "# calculate vocab size\n",
    "train_vocab_size = len(tokenizer.word_index) + 1\n",
    "print(\"Train vocab size: \", train_vocab_size)\n",
    "\n",
    "# Fit tokenizer on X_train\n",
    "tokenizer.fit_on_texts(X_test)\n",
    "# apply padding to testing data\n",
    "sequences_test = tokenizer.texts_to_sequences(X_test)\n",
    "padded_test = pad_sequences(sequences_test, \n",
    "                            padding='post',\n",
    "                            maxlen=26)\n",
    "\n",
    "# calculate vocab size\n",
    "test_vocab_size = len(tokenizer.word_index) + 1\n",
    "print(\"Test vocab size: \", test_vocab_size)"
   ]
  },
  {
   "cell_type": "code",
   "execution_count": 29,
   "id": "c08e8f42",
   "metadata": {},
   "outputs": [
    {
     "name": "stdout",
     "output_type": "stream",
     "text": [
      "[19, 5, 1026, 93, 234]\n",
      "\n",
      "[  19    5 1026   93  234    0    0    0    0    0    0    0    0    0\n",
      "    0    0    0    0    0    0    0    0    0    0    0    0]\n"
     ]
    }
   ],
   "source": [
    "# set print options to display entire array if desired\n",
    "np.set_printoptions(threshold=sys.maxsize)\n",
    "\n",
    "# display the padded train & padded test\n",
    "print(sequences_train[1])\n",
    "print(\"\")\n",
    "print(padded_train[1])"
   ]
  },
  {
   "cell_type": "markdown",
   "id": "5fa43ed7",
   "metadata": {},
   "source": [
    "### B4: Categories of Sentiment <a class=\"anchor\" id=\"b4\"></a>\n",
    "\n",
    "In the three datasets, which have been concatenated into one cohesive set, there are only 2 categories of sentiment: positive and negative. We were given just 0's and 1's, so there are no other choices. \n",
    "\n",
    "The plot below shows the breakdown between both sentiments which is nearly a dead even split 50-50. "
   ]
  },
  {
   "cell_type": "code",
   "execution_count": 30,
   "id": "1471f1ce",
   "metadata": {},
   "outputs": [
    {
     "data": {
      "text/plain": [
       "<Axes: title={'center': 'Sentiment of Dataset'}, xlabel='Sentiment', ylabel='count'>"
      ]
     },
     "execution_count": 30,
     "metadata": {},
     "output_type": "execute_result"
    },
    {
     "data": {
      "image/png": "[encoded data removed]",
      "text/plain": [
       "<Figure size 640x480 with 1 Axes>"
      ]
     },
     "metadata": {},
     "output_type": "display_data"
    }
   ],
   "source": [
    "#defining positive/negative sentiment\n",
    "df['Sentiment'] = df.Score.apply(lambda x: \"Negative\" if x == 0 else \"Positive\")\n",
    "#plot the distribution\n",
    "plt.title(\"Sentiment of Dataset\")\n",
    "sns.countplot(x='Sentiment', data=df)"
   ]
  },
  {
   "cell_type": "markdown",
   "id": "703e9518",
   "metadata": {},
   "source": [
    "### B5: Steps to Prepare the Data <a class=\"anchor\" id=\"b5\"></a>"
   ]
  },
  {
   "cell_type": "markdown",
   "id": "5f115c89",
   "metadata": {},
   "source": [
    "Throughout all of the above, I have explained the various steps that I have used to prepare the data for analysis. Cleaning the data is a fundamental step in any data analysis, but especially in machine learning (Larose, 2019). After the data had been cleaned, I split the data using Scikit-learn's `train_test_split()` function with an 80% training set size, which is 2,400 rows, and a 20% testing set size, which is 600 rows. Given that this is a relatively small dataset at just 3,000 rows, I am choosing a larger training size to allow the model to train effectively. \n",
    "\n",
    "In the `train_test_split()` function, there is also an option to set a validation set as well. However, I chose to not create a validation set. The `Sequential` model from TensorFlow already provides validation accuracy and validation loss, so given that, I didn't see a need to split the data into training, testing, *and validation* sets. "
   ]
  },
  {
   "cell_type": "markdown",
   "id": "6f225108",
   "metadata": {},
   "source": [
    "### B6: Prepared Data Set <a class=\"anchor\" id=\"b6\"></a>\n",
    "\n",
    "The prepared dataset has been provided in this assignment. "
   ]
  },
  {
   "cell_type": "code",
   "execution_count": 32,
   "id": "b556a9dc",
   "metadata": {},
   "outputs": [],
   "source": [
    "df.to_csv('cleaned_data.csv')"
   ]
  },
  {
   "cell_type": "code",
   "execution_count": 33,
   "id": "12e27537",
   "metadata": {},
   "outputs": [],
   "source": [
    "#convert padded data to numpy array to be used in model\n",
    "training_padded = np.array(padded_train)\n",
    "training_label = np.array(y_train)\n",
    "test_padded = np.array(padded_test)\n",
    "test_label = np.array(y_test)"
   ]
  },
  {
   "cell_type": "markdown",
   "id": "b4800ea1",
   "metadata": {},
   "source": [
    "## Part III: Network Architecture <a class=\"anchor\" id=\"part3\"></a>"
   ]
  },
  {
   "cell_type": "markdown",
   "id": "a6318b9e",
   "metadata": {},
   "source": [
    "### C1: Model Summary <a class=\"anchor\" id=\"c1\"></a>"
   ]
  },
  {
   "cell_type": "code",
   "execution_count": 54,
   "id": "6d019a64",
   "metadata": {},
   "outputs": [
    {
     "data": {
      "text/html": [
       "<pre style=\"white-space:pre;overflow-x:auto;line-height:normal;font-family:Menlo,'DejaVu Sans Mono',consolas,'Courier New',monospace\"><span style=\"font-weight: bold\">Model: \"sequential_5\"</span>\n",
       "</pre>\n"
      ],
      "text/plain": [
       "\u001b[1mModel: \"sequential_5\"\u001b[0m\n"
      ]
     },
     "metadata": {},
     "output_type": "display_data"
    },
    {
     "data": {
      "text/html": [
       "<pre style=\"white-space:pre;overflow-x:auto;line-height:normal;font-family:Menlo,'DejaVu Sans Mono',consolas,'Courier New',monospace\">┏━━━━━━━━━━━━━━━━━━━━━━━━━━━━━━━━━┳━━━━━━━━━━━━━━━━━━━━━━━━┳━━━━━━━━━━━━━━━┓\n",
       "┃<span style=\"font-weight: bold\"> Layer (type)                    </span>┃<span style=\"font-weight: bold\"> Output Shape           </span>┃<span style=\"font-weight: bold\">       Param # </span>┃\n",
       "┡━━━━━━━━━━━━━━━━━━━━━━━━━━━━━━━━━╇━━━━━━━━━━━━━━━━━━━━━━━━╇━━━━━━━━━━━━━━━┩\n",
       "│ embedding_5 (<span style=\"color: #0087ff; text-decoration-color: #0087ff\">Embedding</span>)         │ (<span style=\"color: #00af00; text-decoration-color: #00af00\">32</span>, <span style=\"color: #00af00; text-decoration-color: #00af00\">100</span>, <span style=\"color: #00af00; text-decoration-color: #00af00\">75</span>)          │       <span style=\"color: #00af00; text-decoration-color: #00af00\">412,500</span> │\n",
       "├─────────────────────────────────┼────────────────────────┼───────────────┤\n",
       "│ lstm_10 (<span style=\"color: #0087ff; text-decoration-color: #0087ff\">LSTM</span>)                  │ (<span style=\"color: #00af00; text-decoration-color: #00af00\">32</span>, <span style=\"color: #00af00; text-decoration-color: #00af00\">100</span>, <span style=\"color: #00af00; text-decoration-color: #00af00\">64</span>)          │        <span style=\"color: #00af00; text-decoration-color: #00af00\">35,840</span> │\n",
       "├─────────────────────────────────┼────────────────────────┼───────────────┤\n",
       "│ dropout_10 (<span style=\"color: #0087ff; text-decoration-color: #0087ff\">Dropout</span>)            │ (<span style=\"color: #00af00; text-decoration-color: #00af00\">32</span>, <span style=\"color: #00af00; text-decoration-color: #00af00\">100</span>, <span style=\"color: #00af00; text-decoration-color: #00af00\">64</span>)          │             <span style=\"color: #00af00; text-decoration-color: #00af00\">0</span> │\n",
       "├─────────────────────────────────┼────────────────────────┼───────────────┤\n",
       "│ lstm_11 (<span style=\"color: #0087ff; text-decoration-color: #0087ff\">LSTM</span>)                  │ (<span style=\"color: #00af00; text-decoration-color: #00af00\">32</span>, <span style=\"color: #00af00; text-decoration-color: #00af00\">32</span>)               │        <span style=\"color: #00af00; text-decoration-color: #00af00\">12,416</span> │\n",
       "├─────────────────────────────────┼────────────────────────┼───────────────┤\n",
       "│ dropout_11 (<span style=\"color: #0087ff; text-decoration-color: #0087ff\">Dropout</span>)            │ (<span style=\"color: #00af00; text-decoration-color: #00af00\">32</span>, <span style=\"color: #00af00; text-decoration-color: #00af00\">32</span>)               │             <span style=\"color: #00af00; text-decoration-color: #00af00\">0</span> │\n",
       "├─────────────────────────────────┼────────────────────────┼───────────────┤\n",
       "│ dense_5 (<span style=\"color: #0087ff; text-decoration-color: #0087ff\">Dense</span>)                 │ (<span style=\"color: #00af00; text-decoration-color: #00af00\">32</span>, <span style=\"color: #00af00; text-decoration-color: #00af00\">1</span>)                │            <span style=\"color: #00af00; text-decoration-color: #00af00\">33</span> │\n",
       "└─────────────────────────────────┴────────────────────────┴───────────────┘\n",
       "</pre>\n"
      ],
      "text/plain": [
       "┏━━━━━━━━━━━━━━━━━━━━━━━━━━━━━━━━━┳━━━━━━━━━━━━━━━━━━━━━━━━┳━━━━━━━━━━━━━━━┓\n",
       "┃\u001b[1m \u001b[0m\u001b[1mLayer (type)                   \u001b[0m\u001b[1m \u001b[0m┃\u001b[1m \u001b[0m\u001b[1mOutput Shape          \u001b[0m\u001b[1m \u001b[0m┃\u001b[1m \u001b[0m\u001b[1m      Param #\u001b[0m\u001b[1m \u001b[0m┃\n",
       "┡━━━━━━━━━━━━━━━━━━━━━━━━━━━━━━━━━╇━━━━━━━━━━━━━━━━━━━━━━━━╇━━━━━━━━━━━━━━━┩\n",
       "│ embedding_5 (\u001b[38;5;33mEmbedding\u001b[0m)         │ (\u001b[38;5;34m32\u001b[0m, \u001b[38;5;34m100\u001b[0m, \u001b[38;5;34m75\u001b[0m)          │       \u001b[38;5;34m412,500\u001b[0m │\n",
       "├─────────────────────────────────┼────────────────────────┼───────────────┤\n",
       "│ lstm_10 (\u001b[38;5;33mLSTM\u001b[0m)                  │ (\u001b[38;5;34m32\u001b[0m, \u001b[38;5;34m100\u001b[0m, \u001b[38;5;34m64\u001b[0m)          │        \u001b[38;5;34m35,840\u001b[0m │\n",
       "├─────────────────────────────────┼────────────────────────┼───────────────┤\n",
       "│ dropout_10 (\u001b[38;5;33mDropout\u001b[0m)            │ (\u001b[38;5;34m32\u001b[0m, \u001b[38;5;34m100\u001b[0m, \u001b[38;5;34m64\u001b[0m)          │             \u001b[38;5;34m0\u001b[0m │\n",
       "├─────────────────────────────────┼────────────────────────┼───────────────┤\n",
       "│ lstm_11 (\u001b[38;5;33mLSTM\u001b[0m)                  │ (\u001b[38;5;34m32\u001b[0m, \u001b[38;5;34m32\u001b[0m)               │        \u001b[38;5;34m12,416\u001b[0m │\n",
       "├─────────────────────────────────┼────────────────────────┼───────────────┤\n",
       "│ dropout_11 (\u001b[38;5;33mDropout\u001b[0m)            │ (\u001b[38;5;34m32\u001b[0m, \u001b[38;5;34m32\u001b[0m)               │             \u001b[38;5;34m0\u001b[0m │\n",
       "├─────────────────────────────────┼────────────────────────┼───────────────┤\n",
       "│ dense_5 (\u001b[38;5;33mDense\u001b[0m)                 │ (\u001b[38;5;34m32\u001b[0m, \u001b[38;5;34m1\u001b[0m)                │            \u001b[38;5;34m33\u001b[0m │\n",
       "└─────────────────────────────────┴────────────────────────┴───────────────┘\n"
      ]
     },
     "metadata": {},
     "output_type": "display_data"
    },
    {
     "data": {
      "text/html": [
       "<pre style=\"white-space:pre;overflow-x:auto;line-height:normal;font-family:Menlo,'DejaVu Sans Mono',consolas,'Courier New',monospace\"><span style=\"font-weight: bold\"> Total params: </span><span style=\"color: #00af00; text-decoration-color: #00af00\">1,382,369</span> (5.27 MB)\n",
       "</pre>\n"
      ],
      "text/plain": [
       "\u001b[1m Total params: \u001b[0m\u001b[38;5;34m1,382,369\u001b[0m (5.27 MB)\n"
      ]
     },
     "metadata": {},
     "output_type": "display_data"
    },
    {
     "data": {
      "text/html": [
       "<pre style=\"white-space:pre;overflow-x:auto;line-height:normal;font-family:Menlo,'DejaVu Sans Mono',consolas,'Courier New',monospace\"><span style=\"font-weight: bold\"> Trainable params: </span><span style=\"color: #00af00; text-decoration-color: #00af00\">460,789</span> (1.76 MB)\n",
       "</pre>\n"
      ],
      "text/plain": [
       "\u001b[1m Trainable params: \u001b[0m\u001b[38;5;34m460,789\u001b[0m (1.76 MB)\n"
      ]
     },
     "metadata": {},
     "output_type": "display_data"
    },
    {
     "data": {
      "text/html": [
       "<pre style=\"white-space:pre;overflow-x:auto;line-height:normal;font-family:Menlo,'DejaVu Sans Mono',consolas,'Courier New',monospace\"><span style=\"font-weight: bold\"> Non-trainable params: </span><span style=\"color: #00af00; text-decoration-color: #00af00\">0</span> (0.00 B)\n",
       "</pre>\n"
      ],
      "text/plain": [
       "\u001b[1m Non-trainable params: \u001b[0m\u001b[38;5;34m0\u001b[0m (0.00 B)\n"
      ]
     },
     "metadata": {},
     "output_type": "display_data"
    },
    {
     "data": {
      "text/html": [
       "<pre style=\"white-space:pre;overflow-x:auto;line-height:normal;font-family:Menlo,'DejaVu Sans Mono',consolas,'Courier New',monospace\"><span style=\"font-weight: bold\"> Optimizer params: </span><span style=\"color: #00af00; text-decoration-color: #00af00\">921,580</span> (3.52 MB)\n",
       "</pre>\n"
      ],
      "text/plain": [
       "\u001b[1m Optimizer params: \u001b[0m\u001b[38;5;34m921,580\u001b[0m (3.52 MB)\n"
      ]
     },
     "metadata": {},
     "output_type": "display_data"
    }
   ],
   "source": [
    "# show the model summary\n",
    "model.summary()"
   ]
  },
  {
   "cell_type": "code",
   "execution_count": 48,
   "id": "51bc6933",
   "metadata": {},
   "outputs": [],
   "source": [
    "# model parameters\n",
    "early_stopping_monitor = EarlyStopping(monitor='val_loss',\n",
    "                                      patience=3,\n",
    "                                      restore_best_weights=True)\n",
    "\n",
    "# definition of the model and layers\n",
    "model = Sequential([\n",
    "    Embedding(input_dim=5500, output_dim=75, input_length=26),\n",
    "    LSTM(64, return_sequences=True),\n",
    "    Dropout(0.5),\n",
    "    LSTM(32),\n",
    "    Dropout(0.5),\n",
    "    Dense(1, activation='sigmoid')\n",
    "])\n",
    "# compile the model parameters\n",
    "model.compile(optimizer='adam', loss='binary_crossentropy', metrics=['accuracy'])"
   ]
  },
  {
   "cell_type": "markdown",
   "id": "c99bd6c6",
   "metadata": {},
   "source": [
    "### C2: Network Architecture <a class=\"anchor\" id=\"c2\"></a>\n",
    "\n",
    "In my model's architecture, I used 6 layers total. I will breakdown each layer by explaining the purpose of each layer, the total number of parameters, with an explanation of the parameters as well. \n",
    "\n",
    "**Embedding Layer**\n",
    "* **Definition:** Fundamental in neural networks that use NLP. This layer transforms input text into continuous vectors.\n",
    "* **Configuration:** \n",
    "    * *input_dim = 5500*\n",
    "        * Refers to the vocab size, which indicates the number of tokens.\n",
    "            * Full dataset vocab size = 5269\n",
    "            * Training vocab size = 3866\n",
    "            * Testing vocab size = 4438\n",
    "        * Therefore, a size of 5500 provides ample room for training this model.\n",
    "    * *output_dim = 75*\n",
    "        * Refers to the dense embedding for each token.\n",
    "        * I found that our max length words in each token is 72.\n",
    "        * Therefore, 75 is a good value to use for this model.\n",
    "    * *input_length = 26*\n",
    "        * Refers to the length of input sequences.\n",
    "        * I found that the best sequence length is 26, which covers 95% of the tokens.\n",
    "* **Parameters:** \n",
    "    * Represent the weights that map each word to its corresponding embedding vector.\n",
    "    * input_dim * output_dim = 5500 * 75 = 412,500  \n",
    "          \n",
    "  \n",
    "\n",
    "**First LSTM Layer**\n",
    "* **Definition:** Has a memory cell that maintains certain information over time. This helps capture long-term dependencies in NLP.\n",
    "* **Configuration:** \n",
    "    * *units = 64*\n",
    "        * Refers to the number of memory cells in the layer.\n",
    "        * These memory cells are referred to as Long Short Term Memory units, hence the name.\n",
    "    * *return_sequences = True*\n",
    "        * Specifies that the layer should return full sequences of outputs.\n",
    "        * This is necessary when using multiple LSTM layers.\n",
    "* **Parameters:**\n",
    "    * The formula for the number of parameters in LSTM is as follows: \n",
    "        * 4 * (LSTM units * (input_dim (from previous layer) + LSTM units + 1))\n",
    "        * 4 * (64 * (64 + 75 + 1)) = 35,840 \n",
    "\n",
    "\n",
    "**First Dropout Layer**\n",
    "* **Definition:** This is referred to as a regularization layer which prevents overfitting. \n",
    "* **Configuration:** \n",
    "    * *rate = 0.5*\n",
    "        * Indicates the percentage of input units that are randomly set to zero before the next layer.\n",
    "        * This helps limit overfitting. \n",
    "* **Parameters:**\n",
    "    * Dropout layers do not have training parameters.\n",
    "\n",
    "**Second LSTM Layer**\n",
    "* **Configuration:** \n",
    "    * *units = 32*\n",
    "* **Parameters:**\n",
    "    * 4 * (32 * (32 + 64 + 1)) = 12,416\n",
    "    \n",
    "**Second Dropout Layer**\n",
    "* **Configuration:** \n",
    "    * *rate = 0.5*\n",
    " \n",
    "    \n",
    "**Dense Layer**\n",
    "* **Definition:** Applies a linear transformation to the input data by adjusting weights and biases during training.\n",
    "* **Configuration:** \n",
    "    * *units = 1*\n",
    "        * Indicates a single neuron for binary classification.\n",
    "    * *activation = 'sigmoid'*\n",
    "        * This activation function is used for binary output. \n",
    "        * It provides a probability score between 0 and 1.\n",
    "* **Parameters:**\n",
    "    * The formula for the number of parameters in the Dense layer is as follows:\n",
    "        * Dense unit * (input_dim (from previous layer) + Dense unit)\n",
    "        * 1 * (32 + 1) = 33"
   ]
  },
  {
   "cell_type": "markdown",
   "id": "f15047f5",
   "metadata": {},
   "source": [
    "The total number of parameters in this case are the amount of trainable parameters + the number of optimizer parameters. The Adam optimizer uses 921,580 parameters. We can then add up the number of parameters in each of the 6 layers to equal 460,789. These two added together provide us with the total number of parameters, which is 1,382,369. "
   ]
  },
  {
   "cell_type": "markdown",
   "id": "b2e7398a",
   "metadata": {},
   "source": [
    "### C3: Hyperparameters <a class=\"anchor\" id=\"c3\"></a>\n",
    "\n",
    "Choosing the right hyperparameters will determine whether the model performs well or not. I will provide justifications for each hyperparameter below. \n",
    "\n",
    "**Activation Function: sigmoid**\n",
    "\n",
    "Since our dataset provides binary sentiment scores, this is the correct choice for an activation function. Sigmoid is specifically used in binary classification tasks (Brownlee, 2021). \n",
    "\n",
    "**Number of nodes per layer**\n",
    "\n",
    "The input layer (Embedding) should match the number of features in the dataset. As previously explained in C2, I chose appropriate values that align with this dataset. The hidden layers (LSTM) were chosen at 64 and 32 to provide balance and computational efficiency. Best practice is to use a exponential factor of 2, which I did by using 2^6 (64), and 2^5 (32). 64 is slightly smaller than the embedding length of 75 in the 1st layer, so this was in my opinion the best choice. The final output layer (Dense) we are looking for the output, which in this case is going to be a single digit: 0 or 1. Therefore, 1 is the only option for the nodes in this layer. \n",
    "\n",
    "**Loss Function: binary_crossentropy**\n",
    "\n",
    "Since we are looking for only binary output, this was the only suitable choice. This loss function measures the difference between the true binary labels and the predited probabilities. This loss function aligns perfectly with the sigmoid activation function.\n",
    "\n",
    "**Optimizer: Adam**\n",
    "\n",
    "Adaptive Moment Estimation (Adam) is a good choice for optimizing the model efficiency. Adam is a quick and efficient algorithm that adapts the learning rate during training. This leads to faster convergence over each epoch (prakharr0y, 2024). \n",
    "\n",
    "**Early Stopping: monitor = 'val_loss', patience = 3**\n",
    "\n",
    "Early stopping prevents overfitting in the training process by halting the process when certain measurements fall outside the acceptable range. The *patience* refers to the number of epochs (3) the training process can go with increases in the monitored metric (val_loss) before the halting begins. If the validation loss worsens inititaly, but then improves within the patience window, then the training process will continue. During testing of these model parameters, I found that validtaion loss would consistently worsen over each epoch. This showed that the model was overfitting, so I found the best setting here for early stopping was to have a patience of 3. Any less and the model doesn't train well, providing a low accuracy, but any higher and overfitting occurs. A patience of 3 in this model provides a reasonable middle ground on training accuracy and not overfitting. \n",
    "\n",
    "**Evaluation Metric: accuracy**\n",
    "\n",
    "By adding this metric during model compilation, we can visibly see how accurate each epoch is at correctly predicting the sentiment overall. Accuracy is a good metric in this dataset as it is very balanced between positive and negative responses. This would not be the case in an imbalanced dataset. "
   ]
  },
  {
   "cell_type": "markdown",
   "id": "3fd291b5",
   "metadata": {},
   "source": [
    "## Part IV: Model Evaluation <a class=\"anchor\" id=\"part4\"></a>"
   ]
  },
  {
   "attachments": {
    "image-2.png": {
     "image/png": "[encoded data removed]"
    }
   },
   "cell_type": "markdown",
   "id": "1c03cf34",
   "metadata": {},
   "source": [
    "### D1: Stopping Criteria <a class=\"anchor\" id=\"d1\"></a>\n",
    "\n",
    "Early stopping monitors the model's performance at each epoch and halts the training process if the statistical data falls outside the threshold set. I set the number of epochs for the model to train on at 20, but in all of the models I tested with the early stopping setup like I have, it never made it past epoch 10, so I changed it to 10. \n",
    "\n",
    "The below screenshot shows the final epoch trained in my model. \n",
    "\n",
    "![image-2.png](attachment:image-2.png)"
   ]
  },
  {
   "cell_type": "markdown",
   "id": "bea1aefd",
   "metadata": {},
   "source": [
    "### D2: Fitness <a class=\"anchor\" id=\"d2\"></a>\n",
    "\n",
    "We can assess the fitness of the model by using the `model.evaluate()` command, which will provide the accuracy and loss of the model. As you can see below, the training model has over 85% accuracy with 37.58% loss. Evaluating the model's accuracy and loss on the padded test set shows a dip to 74% accuracy with 57% loss. Having less than 15% difference in training and testing accuracy shows that this model is not overfitted."
   ]
  },
  {
   "cell_type": "code",
   "execution_count": 51,
   "id": "da4252e6",
   "metadata": {},
   "outputs": [
    {
     "name": "stdout",
     "output_type": "stream",
     "text": [
      "Training Loss: 37.580% / Training accuracy: 85.708%\n"
     ]
    }
   ],
   "source": [
    "# evaluate the model on training data\n",
    "score = model.evaluate(training_padded, training_label, verbose=0)\n",
    "\n",
    "# convert loss and accuracy to percentage, formatted to 3 decimal points\n",
    "training_loss_pct = score[0] * 100\n",
    "training_accuracy_pct = score[1] * 100\n",
    "\n",
    "# print the results\n",
    "print(f'Training Loss: {training_loss_pct:.3f}% / Training accuracy: {training_accuracy_pct:.3f}%')"
   ]
  },
  {
   "cell_type": "code",
   "execution_count": 52,
   "id": "2d201877",
   "metadata": {},
   "outputs": [
    {
     "name": "stdout",
     "output_type": "stream",
     "text": [
      "Test Loss: 56.668% / Test accuracy: 74.333%\n"
     ]
    }
   ],
   "source": [
    "# evaluate the model on test data\n",
    "score = model.evaluate(test_padded, test_label, verbose=0)\n",
    "\n",
    "# convert loss and accuracy to percentage, formatted to 3 decimal points\n",
    "test_loss_pct = score[0] * 100\n",
    "test_accuracy_pct = score[1] * 100\n",
    "\n",
    "# print the results\n",
    "print(f'Test Loss: {test_loss_pct:.3f}% / Test accuracy: {test_accuracy_pct:.3f}%')"
   ]
  },
  {
   "cell_type": "code",
   "execution_count": 53,
   "id": "f87c74c2",
   "metadata": {},
   "outputs": [
    {
     "name": "stdout",
     "output_type": "stream",
     "text": [
      "The difference between training and testing accuracy should be between 5-15%. This model is: 11.375%\n"
     ]
    }
   ],
   "source": [
    "# calculate the difference between the training and testing accuracies\n",
    "diff = training_accuracy_pct - test_accuracy_pct\n",
    "\n",
    "print(f'The difference between training and testing accuracy should be between 5-15%. This model is: {diff:.3f}%')"
   ]
  },
  {
   "cell_type": "markdown",
   "id": "7ded47ce",
   "metadata": {},
   "source": [
    "### D3: Training Process <a class=\"anchor\" id=\"d3\"></a>"
   ]
  },
  {
   "cell_type": "code",
   "execution_count": 50,
   "id": "6a6c1043",
   "metadata": {},
   "outputs": [
    {
     "name": "stdout",
     "output_type": "stream",
     "text": [
      "Epoch 1/10\n",
      "\u001b[1m60/60\u001b[0m \u001b[32m━━━━━━━━━━━━━━━━━━━━\u001b[0m\u001b[37m\u001b[0m \u001b[1m26s\u001b[0m 201ms/step - accuracy: 0.5102 - loss: 0.6930 - val_accuracy: 0.6771 - val_loss: 0.6824\n",
      "Epoch 2/10\n",
      "\u001b[1m60/60\u001b[0m \u001b[32m━━━━━━━━━━━━━━━━━━━━\u001b[0m\u001b[37m\u001b[0m \u001b[1m10s\u001b[0m 169ms/step - accuracy: 0.7514 - loss: 0.6406 - val_accuracy: 0.7542 - val_loss: 0.5253\n",
      "Epoch 3/10\n",
      "\u001b[1m60/60\u001b[0m \u001b[32m━━━━━━━━━━━━━━━━━━━━\u001b[0m\u001b[37m\u001b[0m \u001b[1m10s\u001b[0m 164ms/step - accuracy: 0.8923 - loss: 0.2914 - val_accuracy: 0.7771 - val_loss: 0.5517\n",
      "Epoch 4/10\n",
      "\u001b[1m60/60\u001b[0m \u001b[32m━━━━━━━━━━━━━━━━━━━━\u001b[0m\u001b[37m\u001b[0m \u001b[1m11s\u001b[0m 172ms/step - accuracy: 0.9573 - loss: 0.1366 - val_accuracy: 0.7833 - val_loss: 0.5785\n",
      "Epoch 5/10\n",
      "\u001b[1m60/60\u001b[0m \u001b[32m━━━━━━━━━━━━━━━━━━━━\u001b[0m\u001b[37m\u001b[0m \u001b[1m11s\u001b[0m 189ms/step - accuracy: 0.9638 - loss: 0.1203 - val_accuracy: 0.7667 - val_loss: 0.6657\n"
     ]
    }
   ],
   "source": [
    "# Train the model\n",
    "history = model.fit(training_padded, training_label, epochs=10, validation_split=0.2, batch_size=32, callbacks=[\n",
    "    tf.keras.callbacks.EarlyStopping(monitor='val_loss', patience=3, restore_best_weights=True)\n",
    "])"
   ]
  },
  {
   "cell_type": "code",
   "execution_count": 57,
   "id": "9805131b",
   "metadata": {},
   "outputs": [
    {
     "data": {
      "image/png": "[encoded data removed]",
      "text/plain": [
       "<Figure size 1200x500 with 2 Axes>"
      ]
     },
     "metadata": {},
     "output_type": "display_data"
    }
   ],
   "source": [
    "# Create subplots\n",
    "fig, (ax1, ax2) = plt.subplots(1,2, figsize=(12,5))\n",
    "\n",
    "# Plot accuracy on the left\n",
    "ax1.plot(range(1,6), history.history['accuracy'], label='Training Accuracy')\n",
    "ax1.plot(range(1,6), history.history['val_accuracy'], label='Validation Accuracy')\n",
    "ax1.set_title('Model Accuracy')\n",
    "ax1.set_xlabel('Epoch')\n",
    "ax1.set_ylabel('Accuracy')\n",
    "ax1.legend(loc='upper left')\n",
    "\n",
    "# Plot loss on the right\n",
    "ax2.plot(range(1,6), history.history['loss'], label='Training Loss')\n",
    "ax2.plot(range(1,6), history.history['val_loss'], label='Validation Loss')\n",
    "ax2.set_title('Model Loss')\n",
    "ax2.set_xlabel('Epoch')\n",
    "ax2.set_ylabel('Loss')\n",
    "ax2.legend(loc='lower left')\n",
    "\n",
    "plt.tight_layout()\n",
    "plt.show()"
   ]
  },
  {
   "cell_type": "markdown",
   "id": "4c7a6f31",
   "metadata": {},
   "source": [
    "### D4: Predictive Accuracy <a class=\"anchor\" id=\"d4\"></a>\n",
    "\n",
    "The predictive accuracy of the trained model is 85.708%. I run predictions below, and show examples of how this model predicts the sentiment compared to the actual sentiment. "
   ]
  },
  {
   "cell_type": "code",
   "execution_count": 66,
   "id": "0203fc12",
   "metadata": {},
   "outputs": [
    {
     "name": "stdout",
     "output_type": "stream",
     "text": [
      "\u001b[1m75/75\u001b[0m \u001b[32m━━━━━━━━━━━━━━━━━━━━\u001b[0m\u001b[37m\u001b[0m \u001b[1m4s\u001b[0m 59ms/step\n"
     ]
    }
   ],
   "source": [
    "# perform predictions on training data\n",
    "predictions = model.predict(training_padded)"
   ]
  },
  {
   "cell_type": "code",
   "execution_count": 71,
   "id": "9803f964",
   "metadata": {},
   "outputs": [
    {
     "name": "stdout",
     "output_type": "stream",
     "text": [
      "Predicted review from training set: one simply disappointment \n",
      "\n",
      "Predicted:  Negative review\n",
      "Actual:  Negative review\n"
     ]
    }
   ],
   "source": [
    "# verify the predicted sentiment by comparing actual label from test data\n",
    "i = 9\n",
    "\n",
    "print(\"Predicted review from training set:\", X_train[i], \"\\n\")\n",
    "print(\"Predicted: \", \"Negative\" if predictions[i][0] > 0.5 else \"Positive\", \"review\")\n",
    "print(\"Actual: \", \"Negative\" if y_train[i] == 0 else \"Positive\", \"review\")"
   ]
  },
  {
   "cell_type": "code",
   "execution_count": 68,
   "id": "aab479d9",
   "metadata": {},
   "outputs": [
    {
     "name": "stdout",
     "output_type": "stream",
     "text": [
      "\u001b[1m19/19\u001b[0m \u001b[32m━━━━━━━━━━━━━━━━━━━━\u001b[0m\u001b[37m\u001b[0m \u001b[1m1s\u001b[0m 36ms/step\n"
     ]
    }
   ],
   "source": [
    "# perform predictions on testing data\n",
    "predictions = model.predict(test_padded)"
   ]
  },
  {
   "cell_type": "code",
   "execution_count": 69,
   "id": "6742ee9a",
   "metadata": {},
   "outputs": [
    {
     "name": "stdout",
     "output_type": "stream",
     "text": [
      "Predicted review from test set: character interest want find longer movie go think people surprise doesnt make \n",
      "\n",
      "Predicted:  Positive review\n",
      "Actual:  Positive review\n"
     ]
    }
   ],
   "source": [
    "# verify the predicted sentiment by comparing actual label from test data\n",
    "i = 100\n",
    "\n",
    "print(\"Predicted review from test set:\", X_test[i], \"\\n\")\n",
    "print(\"Predicted: \", \"Negative\" if predictions[i][0] > 0.5 else \"Positive\", \"review\")\n",
    "print(\"Actual: \", \"Negative\" if y_test[i] == 0 else \"Positive\", \"review\")"
   ]
  },
  {
   "cell_type": "markdown",
   "id": "f2748a7c",
   "metadata": {},
   "source": [
    "## Part V: Summary and Recommendations <a class=\"anchor\" id=\"part5\"></a>"
   ]
  },
  {
   "cell_type": "markdown",
   "id": "1c0e07ea",
   "metadata": {},
   "source": [
    "### E: Code <a class=\"anchor\" id=\"e\"></a>\n",
    "\n",
    "I have provided the code used to save the trained network."
   ]
  },
  {
   "cell_type": "code",
   "execution_count": 104,
   "id": "d6fb7bb1",
   "metadata": {},
   "outputs": [],
   "source": [
    "# save & load the model\n",
    "model.save('my_model.keras')\n",
    "my_model = load_model('my_model.keras')"
   ]
  },
  {
   "cell_type": "markdown",
   "id": "03ce59b6",
   "metadata": {},
   "source": [
    "### F: Functionality <a class=\"anchor\" id=\"f\"></a>\n",
    "\n",
    "The functionality of my neural network is defined by it's 6 layers: Embedding, 2 LSTM, 2 Dropout, and Dense. The explanation of these layers and the purpose of them has been extensively explained in Step C2. The impacts of the network architecture are complex, and I found that setting the values of each hyperparameter can have widely varying results in the outcome. Early on in previous models I created, I noticed low levels of accuracy. And when I made adjustments to improve accuracy, then validation loss increased, which overfit my model. \n",
    "\n",
    "Embedding allows the network to generalize across similar words. This sets up the model nicely for the LSTM layers. Using LSTM has a good impact on this model's performance as LSTM is well-suited for handling sequential data. The Dropout layer provides regularization by not allowing the training process to overfit. Finally, the dense layer helps to classify our data in a binary output. This model leverages the strengths and weaknesses of each layer, setting up a successful model that trains and tests with a high level of accuracy. "
   ]
  },
  {
   "cell_type": "markdown",
   "id": "fc93c75c",
   "metadata": {},
   "source": [
    "### G. Recommendations <a class=\"anchor\" id=\"g\"></a>\n",
    "\n",
    "Given the high level of accuracy in this model, I would recommend to the business owners that they use this model to review their own customer's sentiments. In our dataset we were provided the actual sentiment, so this aided in our model build. However, often on social media, ratings aren't always provided. For example, what about comments on a recent social media post by the business? This is not in \"review\" format, so therefore you would not get a score. \n",
    "\n",
    "I would recommend that the company download all of the comments on a specific social media post into a dataset, and then run this model to predict the sentiment of the customers. This could prove useful in determining how well a new product or a new menu item is fairing in the public eye. This would be a good Marketing strategy for a company to do a slow rollout before ramping up production, which would be a very expensive mistake to make. If the company began mass producing their product before knowing if customers liked it, then this would be bad business. Instead, they could post about an upcoming product, and then garner customer interest through sentiment analysis prior to production. This is a wise strategy for any business. "
   ]
  },
  {
   "cell_type": "markdown",
   "id": "d31b425e",
   "metadata": {},
   "source": [
    "## Part VI: Reporting <a class=\"anchor\" id=\"part6\"></a>"
   ]
  },
  {
   "cell_type": "markdown",
   "id": "75b56c6a",
   "metadata": {},
   "source": [
    "### H: Reporting <a class=\"anchor\" id=\"h\"></a>\n",
    "\n",
    "The Jupyter Notebook has been provided in Adobe PDF format for this presentation."
   ]
  },
  {
   "cell_type": "markdown",
   "id": "4b59bb54",
   "metadata": {},
   "source": [
    "### I: Sources for Third-Party Code <a class=\"anchor\" id=\"i\"></a>\n",
    "\n",
    "Pandas (2023, June 28). Retrieved September 27, 2023, from https://pandas.pydata.org/docs/reference/index.html.\n",
    "\n",
    "Waskom, M. (2012-2022). Seaborn Statistical Data Visualization. Retrieved September 27, 2023, from https://seaborn.pydata.org/index.html.\n",
    "\n",
    "Seabold, S., Perktold, J. (2010). statsmodels: Econometric and statistical modeling with python. Proceedings of the 9th Python in Science Conference. Retrieved November 1, 2024, from https://www.statsmodels.org/stable/index.html.\n",
    "\n",
    "Pérez, F., Granger, B. IPython: A System for Interactive Scientific Computing, Computing in Science and Engineering, vol. 9, no. 3, pp. 21-29, May/June 2007, doi:10.1109/MCSE.2007.53. URL: https://ipython.org\n",
    "\n",
    "hardikkushwaha. (2023, October 18). How to Add a Table of Contents in the Jupyter Notebook. Retrieved November 1, 2024, from https://www.geeksforgeeks.org/how-to-add-a-table-of-contents-in-the-jupyter-notebook/.\n",
    "\n",
    "Abadi, M., Agarwal, A., Barham, P., et al. (2015). TensorFlow: Large-scale machine learning on heterogeneous systems. Retrieved November 15, 2024, from https://tensorflow.org/."
   ]
  },
  {
   "cell_type": "markdown",
   "id": "9dee2f1a",
   "metadata": {},
   "source": [
    "### J: Sources <a class=\"anchor\" id=\"j\"></a>\n",
    "\n",
    "Bruce, P.A. (2020). Practical statistics for data scientists. 50+ essential concepts using r and python. O’Reilly Media, Incorporated. WGU Library.\n",
    "\n",
    "Larose, C.D., Larose, D.T. (2019) Data science using Python and R. Chichester, NJ: Wiley Blackwell.\n",
    "\n",
    "IBM (n.d.) What is a neural network? Retrieved on November 15, 2024, from https://www.ibm.com/topics/neural-networks.\n",
    "\n",
    "aakarshachug. (2024, June 10). What is LSTM - Long Short Term Memory? Retrieved on November 15, 2024, from https://www.geeksforgeeks.org/deep-learning-introduction-to-long-short-term-memory/.\n",
    "\n",
    "Lutkevich, B. (2023, February). tokenization. Retrieved on November 15, 2024, from https://www.techtarget.com/searchsecurity/definition/tokenization.\n",
    "\n",
    "prakharr0y. (2024, March 20). What is Adam Optimizer? Retrieved on November 16, 2024, from https://www.geeksforgeeks.org/adam-optimizer/.\n",
    "\n",
    "Brownlee, J. (2021, January 22). How to Choose an Activation Function for Deep Learning. Retrieved on November 16, 2024, from https://machinelearningmastery.com/choose-an-activation-function-for-deep-learning/."
   ]
  },
  {
   "cell_type": "code",
   "execution_count": null,
   "id": "4328b5b2",
   "metadata": {},
   "outputs": [],
   "source": []
  }
 ],
 "metadata": {
  "kernelspec": {
   "display_name": "Python 3 (ipykernel)",
   "language": "python",
   "name": "python3"
  },
  "language_info": {
   "codemirror_mode": {
    "name": "ipython",
    "version": 3
   },
   "file_extension": ".py",
   "mimetype": "text/x-python",
   "name": "python",
   "nbconvert_exporter": "python",
   "pygments_lexer": "ipython3",
   "version": "3.11.4"
  }
 },
 "nbformat": 4,
 "nbformat_minor": 5
}
